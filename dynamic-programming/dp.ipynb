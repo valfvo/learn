{
 "cells": [
  {
   "cell_type": "markdown",
   "id": "265381b0",
   "metadata": {},
   "source": [
    "# Dynamic Programming"
   ]
  },
  {
   "cell_type": "markdown",
   "id": "04cd7b4a",
   "metadata": {},
   "source": [
    "## Trapping Rain Water (42.)"
   ]
  },
  {
   "cell_type": "code",
   "execution_count": 3,
   "id": "a6e2ec86",
   "metadata": {},
   "outputs": [],
   "source": [
    "class Solution:\n",
    "    def trap(self, height: list[int]) -> int:\n",
    "        water_units = 0\n",
    "        prev_bars: list[tuple[int, int]] = []\n",
    "        for i, h in enumerate(height):\n",
    "            if prev_bars and h > prev_bars[-1][1]:\n",
    "                bottom = prev_bars[-1][1]\n",
    "                while prev_bars and prev_bars[-1][1] < h:\n",
    "                    j, prev_h = prev_bars.pop()\n",
    "                    water_units += (i - j - 1) * (prev_h - bottom)\n",
    "                    bottom = prev_h\n",
    "                if prev_bars:\n",
    "                    j = prev_bars[-1][0]\n",
    "                    water_units += (i - j - 1) * (h - bottom)\n",
    "                while prev_bars and prev_bars[-1][1] <= h:\n",
    "                    prev_bars.pop()\n",
    "            prev_bars.append((i, h))  \n",
    "        return water_units"
   ]
  },
  {
   "cell_type": "code",
   "execution_count": null,
   "id": "925a6bc9",
   "metadata": {},
   "outputs": [],
   "source": []
  }
 ],
 "metadata": {
  "kernelspec": {
   "display_name": "kurio",
   "language": "python",
   "name": "python3"
  },
  "language_info": {
   "codemirror_mode": {
    "name": "ipython",
    "version": 3
   },
   "file_extension": ".py",
   "mimetype": "text/x-python",
   "name": "python",
   "nbconvert_exporter": "python",
   "pygments_lexer": "ipython3",
   "version": "3.12.9"
  }
 },
 "nbformat": 4,
 "nbformat_minor": 5
}
