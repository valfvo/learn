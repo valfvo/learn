{
 "cells": [
  {
   "cell_type": "markdown",
   "id": "f094dba4",
   "metadata": {},
   "source": [
    "### #2873 Maximum Value of an Ordered Triplet I"
   ]
  },
  {
   "cell_type": "code",
   "execution_count": null,
   "id": "952f814b",
   "metadata": {},
   "outputs": [],
   "source": [
    "class Solution:\n",
    "    def maximumTripletValue(self, nums: list[int]) -> int:\n",
    "        max_triplet = 0\n",
    "        for i in range(len(nums)):\n",
    "            for j in range(i + 1, len(nums)):\n",
    "                for k in range(j + 1, len(nums)):\n",
    "                    triplet = (nums[i] - nums[j]) * nums[k]\n",
    "                    if triplet > max_triplet:\n",
    "                        max_triplet = triplet\n",
    "        return max_triplet"
   ]
  },
  {
   "cell_type": "code",
   "execution_count": null,
   "id": "be72432d",
   "metadata": {},
   "outputs": [],
   "source": [
    "class Solution2:\n",
    "    def maximumTripletValue(self, nums: list[int]) -> int:\n",
    "        max_triplet = 0\n",
    "        max_diff = 0\n",
    "        max_num = 0\n",
    "        for num in nums:\n",
    "            max_triplet = max(max_triplet, max_diff * num)\n",
    "            max_diff = max(max_diff, max_num - num)\n",
    "            max_num = max(max_num, num)\n",
    "        return max_triplet"
   ]
  },
  {
   "cell_type": "markdown",
   "id": "eaf055a3",
   "metadata": {},
   "source": [
    "### #1123 Lowest Common Ancestor of Deepest Leaves"
   ]
  },
  {
   "cell_type": "code",
   "execution_count": null,
   "id": "1caf5130",
   "metadata": {},
   "outputs": [],
   "source": [
    "class TreeNode:\n",
    "    def __init__(self, value = 0, left = None, right = None):\n",
    "        self.value = value\n",
    "        self.left = left\n",
    "        self.right = right\n",
    "\n",
    "\n",
    "class Solution:\n",
    "    def _lca(self, node: TreeNode | None, depth: int) -> tuple[TreeNode | None, int]:\n",
    "        if node is None:\n",
    "            return None, depth\n",
    "\n",
    "        left_lca, left_depth = self._lca(node.left, depth + 1)\n",
    "        right_lca, right_depth = self._lca(node.right, depth + 1)\n",
    "\n",
    "        if left_depth > right_depth:\n",
    "            return left_lca, left_depth\n",
    "        if right_depth > left_depth:\n",
    "            return right_lca, right_depth\n",
    "        return node, left_depth\n",
    "\n",
    "    def lca_deepest_leaves(self, root: TreeNode | None) -> TreeNode | None:\n",
    "        lca, _ = self._lca(root, 0)\n",
    "        return lca"
   ]
  },
  {
   "cell_type": "code",
   "execution_count": null,
   "id": "fb7beb12",
   "metadata": {},
   "outputs": [],
   "source": [
    "tree = TreeNode(0, TreeNode(1, None, TreeNode(2)), TreeNode(3))\n",
    "Solution().lca_deepest_leaves(tree).value"
   ]
  },
  {
   "cell_type": "markdown",
   "id": "21e5af68",
   "metadata": {},
   "source": []
  },
  {
   "cell_type": "code",
   "execution_count": null,
   "id": "50e6ae8a",
   "metadata": {},
   "outputs": [],
   "source": []
  }
 ],
 "metadata": {
  "kernelspec": {
   "display_name": "kurio",
   "language": "python",
   "name": "python3"
  },
  "language_info": {
   "codemirror_mode": {
    "name": "ipython",
    "version": 3
   },
   "file_extension": ".py",
   "mimetype": "text/x-python",
   "name": "python",
   "nbconvert_exporter": "python",
   "pygments_lexer": "ipython3",
   "version": "3.12.9"
  }
 },
 "nbformat": 4,
 "nbformat_minor": 5
}
