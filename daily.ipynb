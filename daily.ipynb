{
 "cells": [
  {
   "cell_type": "markdown",
   "id": "f094dba4",
   "metadata": {},
   "source": [
    "## #2873. Maximum Value of an Ordered Triplet I"
   ]
  },
  {
   "cell_type": "code",
   "execution_count": null,
   "id": "952f814b",
   "metadata": {},
   "outputs": [],
   "source": [
    "class Solution:\n",
    "    def maximumTripletValue(self, nums: list[int]) -> int:\n",
    "        max_triplet = 0\n",
    "        for i in range(len(nums)):\n",
    "            for j in range(i + 1, len(nums)):\n",
    "                for k in range(j + 1, len(nums)):\n",
    "                    triplet = (nums[i] - nums[j]) * nums[k]\n",
    "                    if triplet > max_triplet:\n",
    "                        max_triplet = triplet\n",
    "        return max_triplet"
   ]
  },
  {
   "cell_type": "code",
   "execution_count": null,
   "id": "be72432d",
   "metadata": {},
   "outputs": [],
   "source": [
    "class Solution2:\n",
    "    def maximumTripletValue(self, nums: list[int]) -> int:\n",
    "        max_triplet = 0\n",
    "        max_diff = 0\n",
    "        max_num = 0\n",
    "        for num in nums:\n",
    "            max_triplet = max(max_triplet, max_diff * num)\n",
    "            max_diff = max(max_diff, max_num - num)\n",
    "            max_num = max(max_num, num)\n",
    "        return max_triplet"
   ]
  }
 ],
 "metadata": {
  "language_info": {
   "name": "python"
  }
 },
 "nbformat": 4,
 "nbformat_minor": 5
}
