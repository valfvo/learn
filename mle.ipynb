{
 "cells": [
  {
   "cell_type": "code",
   "execution_count": 2,
   "metadata": {},
   "outputs": [],
   "source": [
    "import uuid\n",
    "\n",
    "import pandas as pd\n",
    "import numpy as np"
   ]
  },
  {
   "cell_type": "code",
   "execution_count": 4,
   "metadata": {},
   "outputs": [
    {
     "data": {
      "text/plain": [
       "array([237.4415461 , 452.47402151, 536.419071  , 107.73061854,\n",
       "        24.70108685, 626.56128255, 314.02476357, 211.24376001,\n",
       "        53.67296024, 128.39140476, 151.79068197, 112.29163941,\n",
       "       370.85514936, 308.04442262,  43.6932678 ,  43.06469983,\n",
       "        14.13260578, 305.11806519, 223.8164806 , 126.81355705])"
      ]
     },
     "execution_count": 4,
     "metadata": {},
     "output_type": "execute_result"
    }
   ],
   "source": [
    "np.random.exponential(scale=300, size=20)"
   ]
  },
  {
   "cell_type": "code",
   "execution_count": null,
   "metadata": {},
   "outputs": [],
   "source": [
    "n_records = 1000\n",
    "data = {\n",
    "    'session_id': [str(uuid.uuid4()) for _ in range(n_records)],\n",
    "    'user_id': [f\"user_{i:04d}\" for i in np.random.randint(1, 500, n_records)],\n",
    "    'page_views': np.random.randint(1, 50, n_records),\n",
    "    'time_on_site': np.round(np.random.exponential(scale=300, size=n_records), 2),  # in seconds\n",
    "    'referrer': np.random.choice(['google', 'facebook', 'direct', 'twitter', 'email', 'bing'], n_records, \n",
    "                               p=[0.4, 0.25, 0.2, 0.1, 0.03, 0.02]),\n",
    "    'device': np.random.choice(['mobile', 'desktop', 'tablet'], n_records, p=[0.6, 0.35, 0.05]),\n",
    "}\n",
    "\n",
    "# Generate target variable with some correlation to features\n",
    "# Users who spend more time and view more pages are more likely to purchase\n",
    "purchase_prob = (data['page_views'] / 50 + data['time_on_site'] / 1000) / 2\n",
    "# Add some randomness\n",
    "purchase_prob = np.clip(purchase_prob + np.random.normal(0, 0.1, n_records), 0.05, 0.95)\n",
    "data['made_purchase'] = (np.random.random(n_records) < purchase_prob).astype(int)\n",
    "\n",
    "# Create DataFrame\n",
    "df = pd.DataFrame(data)\n",
    "\n",
    "# Save to CSV\n",
    "df.to_csv('user_sessions.csv', index=False)\n",
    "\n",
    "# Display first few rows\n",
    "print(df.head())\n",
    "print(f\"\\nData saved to user_sessions.csv ({n_records} records)\")\n",
    "print(f\"Purchase rate: {df['made_purchase'].mean():.2%}\")"
   ]
  }
 ],
 "metadata": {
  "kernelspec": {
   "display_name": "kurio",
   "language": "python",
   "name": "python3"
  },
  "language_info": {
   "codemirror_mode": {
    "name": "ipython",
    "version": 3
   },
   "file_extension": ".py",
   "mimetype": "text/x-python",
   "name": "python",
   "nbconvert_exporter": "python",
   "pygments_lexer": "ipython3",
   "version": "3.12.9"
  }
 },
 "nbformat": 4,
 "nbformat_minor": 2
}
