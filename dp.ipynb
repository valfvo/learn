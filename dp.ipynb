{
 "cells": [
  {
   "cell_type": "markdown",
   "id": "265381b0",
   "metadata": {},
   "source": [
    "# Dynamic Programming"
   ]
  },
  {
   "cell_type": "markdown",
   "id": "04cd7b4a",
   "metadata": {},
   "source": [
    "## #42 Trapping Rain Water"
   ]
  },
  {
   "cell_type": "code",
   "execution_count": 3,
   "id": "a6e2ec86",
   "metadata": {},
   "outputs": [],
   "source": [
    "class Solution:\n",
    "    def trap(self, height: list[int]) -> int:\n",
    "        water_units = 0\n",
    "        prev_bars: list[tuple[int, int]] = []\n",
    "        for i, h in enumerate(height):\n",
    "            if prev_bars and h > prev_bars[-1][1]:\n",
    "                bottom = prev_bars[-1][1]\n",
    "                while prev_bars and prev_bars[-1][1] < h:\n",
    "                    j, prev_h = prev_bars.pop()\n",
    "                    water_units += (i - j - 1) * (prev_h - bottom)\n",
    "                    bottom = prev_h\n",
    "                if prev_bars:\n",
    "                    j = prev_bars[-1][0]\n",
    "                    water_units += (i - j - 1) * (h - bottom)\n",
    "                while prev_bars and prev_bars[-1][1] <= h:\n",
    "                    prev_bars.pop()\n",
    "            prev_bars.append((i, h))  \n",
    "        return water_units"
   ]
  },
  {
   "cell_type": "code",
   "execution_count": null,
   "id": "925a6bc9",
   "metadata": {},
   "outputs": [],
   "source": [
    "class Solution2:\n",
    "    def trap(self, height: list[int]) -> int:\n",
    "        water_units = 0\n",
    "        l = 0\n",
    "        r = len(height) - 1\n",
    "        left_max = height[l]\n",
    "        right_max = height[r]\n",
    "        while l < r:\n",
    "            if left_max < right_max:\n",
    "                l += 1\n",
    "                left_max = max(left_max, height[l])\n",
    "                water_units += left_max - height[l]\n",
    "            else:\n",
    "                r -= 1\n",
    "                right_max = max(right_max, height[r])\n",
    "                water_units += right_max - height[r]\n",
    "        return water_units"
   ]
  },
  {
   "cell_type": "code",
   "execution_count": null,
   "id": "b9e90bab",
   "metadata": {},
   "outputs": [],
   "source": [
    "class Solution3:\n",
    "    def trap(self, height: list[int]) -> int:\n",
    "        water_units = 0\n",
    "        l = 0\n",
    "        r = len(height) - 1\n",
    "        left_max = 0\n",
    "        right_max = 0\n",
    "        while l < r:\n",
    "            if height[l] < height[r]:\n",
    "                if height[l] >= left_max:\n",
    "                    left_max = height[l]\n",
    "                else:\n",
    "                    water_units += left_max - height[l]\n",
    "                l += 1\n",
    "            else:\n",
    "                if height[r] >= right_max:\n",
    "                    right_max = height[r]\n",
    "                else:\n",
    "                    water_units += right_max - height[r]\n",
    "                r -= 1\n",
    "        return water_units"
   ]
  },
  {
   "cell_type": "markdown",
   "id": "c1bfe048",
   "metadata": {},
   "source": [
    "## #70 Climbing Stairs"
   ]
  },
  {
   "cell_type": "code",
   "execution_count": null,
   "id": "7186dab7",
   "metadata": {},
   "outputs": [],
   "source": [
    "class Solution:\n",
    "    def climbStairs(self, n: int) -> int:\n",
    "        # ways = [1, 2]\n",
    "        # for i in range(2, n):\n",
    "        #     ways.append(ways[i - 1] + ways[i - 2])\n",
    "        # return ways[n - 1]\n",
    "        if n <= 2:\n",
    "            return n\n",
    "        n1, n2 = 1, 2\n",
    "        for _ in range(2, n):\n",
    "            n1, n2 = n2, n1 + n2\n",
    "        return n2"
   ]
  },
  {
   "cell_type": "code",
   "execution_count": null,
   "id": "ecdf01dc",
   "metadata": {},
   "outputs": [],
   "source": [
    "class Solution2:\n",
    "    def climbStairs(self, n: int) -> int:\n",
    "        phi = (1 + 5 ** 0.5) / 2\n",
    "        psi = (1 - 5 ** 0.5) / 2\n",
    "        return round((phi ** (n + 1) - psi ** (n + 1)) / (5 ** 0.5))"
   ]
  },
  {
   "cell_type": "markdown",
   "id": "0212523f",
   "metadata": {},
   "source": [
    "## #198 House Robber"
   ]
  },
  {
   "cell_type": "code",
   "execution_count": null,
   "id": "70ace63f",
   "metadata": {},
   "outputs": [],
   "source": [
    "class Solution:\n",
    "    def rob(self, nums: list[int]) -> int:\n",
    "        prev = 0\n",
    "        curr = 0\n",
    "        for num in nums:\n",
    "            prev, curr = curr, max(curr, prev + num)\n",
    "        return curr"
   ]
  },
  {
   "cell_type": "markdown",
   "id": "eb293119",
   "metadata": {},
   "source": [
    "### #338 Counting Bits"
   ]
  },
  {
   "cell_type": "code",
   "execution_count": null,
   "id": "70e94c13",
   "metadata": {},
   "outputs": [],
   "source": [
    "class Solution:\n",
    "    def countBits(self, n: int) -> list[int]:\n",
    "        ones = [0] * (n + 1)\n",
    "        lower = 0\n",
    "        upper = 1\n",
    "        p = 1\n",
    "        for i in range(1, n + 1):\n",
    "            if i > upper:\n",
    "                lower = upper + 1\n",
    "                p += 1\n",
    "                upper = 2 ** p - 1\n",
    "                ones[i] = 1\n",
    "            else:\n",
    "                ones[i] = ones[i - lower] + 1\n",
    "        return ones"
   ]
  },
  {
   "cell_type": "code",
   "execution_count": null,
   "id": "ab38ca59",
   "metadata": {},
   "outputs": [],
   "source": [
    "class Solution2:\n",
    "    def countBits(self, n: int) -> list[int]:\n",
    "        ones = [0] * (n + 1)\n",
    "        lower = 1\n",
    "        for i in range(1, n + 1):\n",
    "            if i == 2 * lower:\n",
    "                lower = i\n",
    "            ones[i] = 1 + ones[i - lower]\n",
    "        return ones"
   ]
  },
  {
   "cell_type": "code",
   "execution_count": null,
   "id": "1df536d2",
   "metadata": {},
   "outputs": [],
   "source": [
    "class Solution3:\n",
    "    def countBits(self, n: int) -> list[int]:\n",
    "        ones = [0] * (n + 1)\n",
    "        for i in range(1, n + 1):\n",
    "            ones[i] = ones[i >> 1] + (i & 1)\n",
    "        return ones"
   ]
  },
  {
   "cell_type": "markdown",
   "id": "768dd267",
   "metadata": {},
   "source": [
    "### #343 Integer Break"
   ]
  },
  {
   "cell_type": "code",
   "execution_count": null,
   "id": "d6539cc6",
   "metadata": {},
   "outputs": [],
   "source": [
    "class Solution:\n",
    "    def integerBreak(self, n: int) -> int:\n",
    "        if n <= 3:\n",
    "            return n - 1\n",
    "        q, r = divmod(n, 3)\n",
    "        if r == 0:\n",
    "            return 3 ** q\n",
    "        elif r == 1:\n",
    "            return 3 ** (q - 1) * 4\n",
    "        else:\n",
    "            return 3 ** q * 2"
   ]
  },
  {
   "cell_type": "markdown",
   "id": "18a9a955",
   "metadata": {},
   "source": [
    "### #1140 Stone Game II"
   ]
  },
  {
   "cell_type": "code",
   "execution_count": null,
   "id": "b009d774",
   "metadata": {},
   "outputs": [],
   "source": [
    "class Solution:\n",
    "    @staticmethod\n",
    "    def _game(piles: list[int], i: int, m: int, p: bool, s: int):\n",
    "        if 2 * m >= len(piles) - i + 1:\n",
    "            return s + sum(piles[i:]) if p else s\n",
    "\n",
    "        s_opt = -1 if p else 1_000_001\n",
    "        for x in range(1, 2 * m + 1):\n",
    "            s_turn = sum(piles[i:i + x]) if p else 0\n",
    "            s_end = Solution._game(piles, i + x, max(m, x), not p, s + s_turn)\n",
    "            if (p and s_end > s_opt) or (not p and s_end < s_opt):\n",
    "                s_opt = s_end\n",
    "\n",
    "        return s_opt\n",
    "\n",
    "    def stoneGameII(self, piles: list[int]) -> int:\n",
    "        return Solution._game(piles, 0, 1, True, 0)"
   ]
  },
  {
   "cell_type": "code",
   "execution_count": 155,
   "id": "f55ace2f",
   "metadata": {},
   "outputs": [],
   "source": [
    "class Solution2:\n",
    "    @staticmethod\n",
    "    def _ab_minmax(piles: list[int], i: int, m: int, p: bool, s: int, a: int, b: int) -> int:\n",
    "        if 2 * m >= len(piles) - i + 1:\n",
    "            return s + sum(piles[i:]) if p else s\n",
    "\n",
    "        comp = max if p else min\n",
    "        s_opt = -1 if p else 1_000_001\n",
    "        for x in range(1, 2 * m + 1):\n",
    "            s_turn = sum(piles[i:i + x]) if p else 0\n",
    "            s_end = Solution2._ab_minmax(piles, i + x, max(m, x), not p, s + s_turn, a, b)\n",
    "            s_opt = comp(s_opt, s_end)\n",
    "            if p:\n",
    "                a = max(a, s_opt)\n",
    "            else:\n",
    "                b = min(b, s_opt)\n",
    "            if b <= a:\n",
    "                break\n",
    "        return s_opt\n",
    "\n",
    "    def stoneGameII(self, piles: list[int]) -> int:\n",
    "        return Solution2._ab_minmax(piles, 0, 1, True, 0, -1, 1_000_001)"
   ]
  },
  {
   "cell_type": "code",
   "execution_count": null,
   "id": "1a787303",
   "metadata": {},
   "outputs": [],
   "source": [
    "class Solution3:\n",
    "    def stoneGameII(self, piles: list[int]) -> int:\n",
    "        n = len(piles)\n",
    "\n",
    "        suffix_sum = [0] * n\n",
    "        suffix_sum[-1] = piles[-1]\n",
    "        for i in range(n - 2, -1, -1):\n",
    "            suffix_sum[i] = piles[i] + suffix_sum[i + 1]\n",
    "\n",
    "        dp = [[0] * (n + 1) for _ in range(n)]\n",
    "        for i in range(n - 1, -1, -1):\n",
    "            for m in range(1, n + 1):\n",
    "                if i + 2 * m >= n:\n",
    "                    dp[i][m] = suffix_sum[i]\n",
    "                else:\n",
    "                    for x in range(1, 2 * m + 1):\n",
    "                        dp[i][m] = max(dp[i][m], suffix_sum[i] - dp[i + x][max(m, x)])\n",
    "        return dp[0][1]"
   ]
  },
  {
   "cell_type": "code",
   "execution_count": null,
   "id": "aa943929",
   "metadata": {},
   "outputs": [],
   "source": [
    "class Solution4:\n",
    "    def stoneGameII(self, piles: list[int]) -> int:\n",
    "        n = len(piles)\n",
    "        suffix_sum = 0\n",
    "        dp = [[0] * (n + 1) for _ in range(n)]\n",
    "\n",
    "        for i in range(n - 1, -1, -1):\n",
    "            suffix_sum += piles[i]\n",
    "\n",
    "            for m in range(1, i // 2 + 2):\n",
    "                if i + 2 * m >= n:\n",
    "                    dp[i][m] = suffix_sum\n",
    "                else:\n",
    "                    for x in range(1, 2 * m + 1):\n",
    "                        dp[i][m] = max(dp[i][m], suffix_sum - dp[i + x][max(m, x)])\n",
    "        return dp[0][1]"
   ]
  },
  {
   "cell_type": "code",
   "execution_count": null,
   "id": "209c2228",
   "metadata": {},
   "outputs": [],
   "source": []
  }
 ],
 "metadata": {
  "kernelspec": {
   "display_name": "kurio",
   "language": "python",
   "name": "python3"
  },
  "language_info": {
   "codemirror_mode": {
    "name": "ipython",
    "version": 3
   },
   "file_extension": ".py",
   "mimetype": "text/x-python",
   "name": "python",
   "nbconvert_exporter": "python",
   "pygments_lexer": "ipython3",
   "version": "3.12.9"
  }
 },
 "nbformat": 4,
 "nbformat_minor": 5
}
