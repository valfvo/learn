{
 "cells": [
  {
   "cell_type": "markdown",
   "id": "265381b0",
   "metadata": {},
   "source": [
    "# Dynamic Programming"
   ]
  },
  {
   "cell_type": "markdown",
   "id": "04cd7b4a",
   "metadata": {},
   "source": [
    "## #42 Trapping Rain Water"
   ]
  },
  {
   "cell_type": "code",
   "execution_count": 3,
   "id": "a6e2ec86",
   "metadata": {},
   "outputs": [],
   "source": [
    "class Solution:\n",
    "    def trap(self, height: list[int]) -> int:\n",
    "        water_units = 0\n",
    "        prev_bars: list[tuple[int, int]] = []\n",
    "        for i, h in enumerate(height):\n",
    "            if prev_bars and h > prev_bars[-1][1]:\n",
    "                bottom = prev_bars[-1][1]\n",
    "                while prev_bars and prev_bars[-1][1] < h:\n",
    "                    j, prev_h = prev_bars.pop()\n",
    "                    water_units += (i - j - 1) * (prev_h - bottom)\n",
    "                    bottom = prev_h\n",
    "                if prev_bars:\n",
    "                    j = prev_bars[-1][0]\n",
    "                    water_units += (i - j - 1) * (h - bottom)\n",
    "                while prev_bars and prev_bars[-1][1] <= h:\n",
    "                    prev_bars.pop()\n",
    "            prev_bars.append((i, h))  \n",
    "        return water_units"
   ]
  },
  {
   "cell_type": "code",
   "execution_count": null,
   "id": "925a6bc9",
   "metadata": {},
   "outputs": [],
   "source": [
    "class Solution2:\n",
    "    def trap(self, height: list[int]) -> int:\n",
    "        water_units = 0\n",
    "        l = 0\n",
    "        r = len(height) - 1\n",
    "        left_max = height[l]\n",
    "        right_max = height[r]\n",
    "        while l < r:\n",
    "            if left_max < right_max:\n",
    "                l += 1\n",
    "                left_max = max(left_max, height[l])\n",
    "                water_units += left_max - height[l]\n",
    "            else:\n",
    "                r -= 1\n",
    "                right_max = max(right_max, height[r])\n",
    "                water_units += right_max - height[r]\n",
    "        return water_units"
   ]
  },
  {
   "cell_type": "code",
   "execution_count": null,
   "id": "b9e90bab",
   "metadata": {},
   "outputs": [],
   "source": [
    "class Solution3:\n",
    "    def trap(self, height: list[int]) -> int:\n",
    "        water_units = 0\n",
    "        l = 0\n",
    "        r = len(height) - 1\n",
    "        left_max = 0\n",
    "        right_max = 0\n",
    "        while l < r:\n",
    "            if height[l] < height[r]:\n",
    "                if height[l] >= left_max:\n",
    "                    left_max = height[l]\n",
    "                else:\n",
    "                    water_units += left_max - height[l]\n",
    "                l += 1\n",
    "            else:\n",
    "                if height[r] >= right_max:\n",
    "                    right_max = height[r]\n",
    "                else:\n",
    "                    water_units += right_max - height[r]\n",
    "                r -= 1\n",
    "        return water_units"
   ]
  },
  {
   "cell_type": "markdown",
   "id": "c1bfe048",
   "metadata": {},
   "source": [
    "## #70 Climbing Stairs"
   ]
  },
  {
   "cell_type": "code",
   "execution_count": null,
   "id": "7186dab7",
   "metadata": {},
   "outputs": [],
   "source": [
    "class Solution:\n",
    "    def climbStairs(self, n: int) -> int:\n",
    "        # ways = [1, 2]\n",
    "        # for i in range(2, n):\n",
    "        #     ways.append(ways[i - 1] + ways[i - 2])\n",
    "        # return ways[n - 1]\n",
    "        if n <= 2:\n",
    "            return n\n",
    "        n1, n2 = 1, 2\n",
    "        for _ in range(2, n):\n",
    "            n1, n2 = n2, n1 + n2\n",
    "        return n2"
   ]
  },
  {
   "cell_type": "code",
   "execution_count": null,
   "id": "ecdf01dc",
   "metadata": {},
   "outputs": [],
   "source": [
    "class Solution2:\n",
    "    def climbStairs(self, n: int) -> int:\n",
    "        phi = (1 + 5 ** 0.5) / 2\n",
    "        psi = (1 - 5 ** 0.5) / 2\n",
    "        return round((phi ** (n + 1) - psi ** (n + 1)) / (5 ** 0.5))"
   ]
  }
 ],
 "metadata": {
  "kernelspec": {
   "display_name": "kurio",
   "language": "python",
   "name": "python3"
  },
  "language_info": {
   "codemirror_mode": {
    "name": "ipython",
    "version": 3
   },
   "file_extension": ".py",
   "mimetype": "text/x-python",
   "name": "python",
   "nbconvert_exporter": "python",
   "pygments_lexer": "ipython3",
   "version": "3.12.9"
  }
 },
 "nbformat": 4,
 "nbformat_minor": 5
}
