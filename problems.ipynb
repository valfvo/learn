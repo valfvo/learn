{
 "cells": [
  {
   "cell_type": "markdown",
   "id": "19006b43",
   "metadata": {},
   "source": [
    "## Lenght of longest substring without repeating characters"
   ]
  },
  {
   "cell_type": "code",
   "execution_count": 2,
   "id": "90b84018",
   "metadata": {},
   "outputs": [],
   "source": [
    "def len_longest_substring(s: str) -> int:\n",
    "    length = 0\n",
    "    start = 0\n",
    "    char_index: dict[str, int] = {}\n",
    "    for i, char in enumerate(s):\n",
    "        if char_index.get(char, -1) >= start:\n",
    "            start = char_index[char] + 1\n",
    "        char_index[char] = i\n",
    "        length = max(length, i - start + 1)\n",
    "    return length"
   ]
  },
  {
   "cell_type": "code",
   "execution_count": null,
   "id": "433a80b9",
   "metadata": {},
   "outputs": [
    {
     "name": "stdout",
     "output_type": "stream",
     "text": [
      "All test cases passed\n"
     ]
    }
   ],
   "source": [
    "test_cases = [\n",
    "    ('abcabcbb', 3),\n",
    "    ('bbbbb', 1),\n",
    "    ('pwwkew', 3),\n",
    "    ('', 0),\n",
    "    ('a', 1),\n",
    "    ('ab', 2),\n",
    "    ('aabbcc', 2),\n",
    "    ('abcdefg', 7),\n",
    "]\n",
    "\n",
    "for s, expected in test_cases:\n",
    "    result = len_longest_substring(s)\n",
    "    assert result == expected, f'For \"{s}\", expected {expected} but got {result}'\n",
    "print('All test cases passed')"
   ]
  },
  {
   "cell_type": "markdown",
   "id": "0a8f71b4",
   "metadata": {},
   "source": [
    "## Non-recursive BFS"
   ]
  },
  {
   "cell_type": "code",
   "execution_count": 8,
   "id": "3a5cb919",
   "metadata": {},
   "outputs": [],
   "source": [
    "from collections import deque\n",
    "\n",
    "\n",
    "class TreeNode:\n",
    "    def __init__(self, value=0, left=None, right=None):\n",
    "        self.value = value\n",
    "        self.left = left\n",
    "        self.right = right\n",
    "\n",
    "    @classmethod\n",
    "    def from_list(cls, values: list[list]) -> 'TreeNode | None':\n",
    "        if not values:\n",
    "            return None\n",
    "        root = TreeNode(values[0])\n",
    "        queue = deque([root])\n",
    "        i = 1\n",
    "        while i < len(values) and queue:\n",
    "            node = queue.popleft()\n",
    "            if values[i] is not None:\n",
    "                node.left = TreeNode(values[i])\n",
    "                queue.append(node.left)\n",
    "            i += 1\n",
    "            if i < len(values) and values[i] is not None:\n",
    "                node.right = TreeNode(values[i])\n",
    "                queue.append(node.right)\n",
    "            i += 1\n",
    "        return root\n",
    "\n",
    "\n",
    "def bfs_v1(root: TreeNode | None) -> list[list[int]]:\n",
    "    if root is None:\n",
    "        return []\n",
    "    queue = deque([(0, root)])\n",
    "    depth = 0\n",
    "    level: list[int] = []\n",
    "    levels: list[list[int]] = []\n",
    "    while queue:\n",
    "        node_depth, node = queue.popleft()\n",
    "        if node_depth > depth:\n",
    "            levels.append(level)\n",
    "            level = []\n",
    "            depth += 1\n",
    "        level.append(node.value)\n",
    "        for child in (node.left, node.right):\n",
    "            if child is not None:\n",
    "                queue.append((node_depth + 1, child))\n",
    "    if level:\n",
    "        levels.append(level)\n",
    "    return levels\n",
    "\n",
    "def bfs(root: TreeNode | None) -> list[list[int]]:\n",
    "    if root is None:\n",
    "        return []\n",
    "    queue = deque([root])\n",
    "    levels: list[list[int]] = []\n",
    "    while queue:\n",
    "        level = []\n",
    "        for _ in range(len(queue)):\n",
    "            node = queue.popleft()\n",
    "            level.append(node.value)\n",
    "            for child in (node.left, node.right):\n",
    "                if child is not None:\n",
    "                    queue.append(child)\n",
    "        levels.append(level)\n",
    "    return levels"
   ]
  },
  {
   "cell_type": "code",
   "execution_count": 9,
   "id": "718b92be",
   "metadata": {},
   "outputs": [
    {
     "name": "stdout",
     "output_type": "stream",
     "text": [
      "All test cases passed\n"
     ]
    }
   ],
   "source": [
    "test_cases = [\n",
    "    ([3, 9, 20, None, None, 15, 7], [[3], [9, 20], [15, 7]]),\n",
    "]\n",
    "\n",
    "for tree, expected in test_cases:\n",
    "    root = TreeNode.from_list(tree)\n",
    "    assert bfs(root) == expected, f'For {tree}, expected {expected} but got {bfs(root)}'\n",
    "print('All test cases passed')"
   ]
  },
  {
   "cell_type": "markdown",
   "id": "6f976da4",
   "metadata": {},
   "source": [
    "## Merge Intervals"
   ]
  },
  {
   "cell_type": "code",
   "execution_count": 17,
   "id": "637c71cf",
   "metadata": {},
   "outputs": [],
   "source": [
    "def merge_intervals(intervals: list[list[int]]) -> list[list[int]]:\n",
    "    merged = sorted(intervals)\n",
    "    i = 1\n",
    "    while i < len(merged):\n",
    "        if merged[i][0] <= merged[i - 1][1]:\n",
    "            merged[i - 1][1] = max(merged[i - 1][1], merged[i][1])\n",
    "            merged.pop(i)\n",
    "        else:\n",
    "            i += 1\n",
    "    return merged"
   ]
  },
  {
   "cell_type": "code",
   "execution_count": 18,
   "id": "dc2aecbd",
   "metadata": {},
   "outputs": [
    {
     "name": "stdout",
     "output_type": "stream",
     "text": [
      "All test cases passed\n"
     ]
    }
   ],
   "source": [
    "test_cases = [\n",
    "    ([[1, 3], [2, 6], [8, 10], [15, 18]], [[1, 6], [8, 10], [15, 18]]),\n",
    "    ([[1, 4], [4, 5]], [[1, 5]]),\n",
    "    ([], []),\n",
    "    ([[1, 1]], [[1, 1]]),\n",
    "    ([[1, 10]], [[1, 10]]),\n",
    "    ([[1, 4], [2, 3]], [[1, 4]]),\n",
    "]\n",
    "\n",
    "for intervals, expected in test_cases:\n",
    "    merged = merge_intervals(intervals)\n",
    "    assert merged == expected, f'For {intervals}, expected {expected} but got {merged}'\n",
    "print('All test cases passed')"
   ]
  },
  {
   "cell_type": "markdown",
   "id": "c29e1ae0",
   "metadata": {},
   "source": [
    "## Integer Partition"
   ]
  },
  {
   "cell_type": "code",
   "execution_count": 32,
   "id": "a868c19a",
   "metadata": {},
   "outputs": [],
   "source": [
    "def get_partitions_gt(n: int, m: int) -> list[list[int]]:\n",
    "    if n <= m:\n",
    "        return []\n",
    "    partitions: list[list[int]] = []\n",
    "    for i in range(m + 1, n // 2 + 1):\n",
    "        partitions.extend([i] + p for p in get_partitions_gt(n - i, i))\n",
    "    partitions.append([n])\n",
    "    return partitions\n",
    "\n",
    "\n",
    "def get_partitions(n: int) -> list[list[int]]:\n",
    "    return get_partitions_gt(n, 0)"
   ]
  },
  {
   "cell_type": "code",
   "execution_count": 34,
   "id": "22a84565",
   "metadata": {},
   "outputs": [
    {
     "name": "stdout",
     "output_type": "stream",
     "text": [
      "All test cases passed\n"
     ]
    }
   ],
   "source": [
    "test_cases = [\n",
    "    (1, [[1]]),\n",
    "    (2, [[2]]),\n",
    "    (3, [[1, 2], [3]]),\n",
    "    (4, [[1, 3], [4]]),\n",
    "    (5, [[1, 4], [2, 3], [5]]),\n",
    "    (6, [[1, 2, 3], [1, 5], [2, 4], [6]]),\n",
    "    (7, [[1, 2, 4], [1, 6], [2, 5], [3, 4], [7]]),\n",
    "    (8, [[1, 2, 5], [1, 3, 4], [1, 7], [2, 6], [3, 5], [8]]),\n",
    "]\n",
    "\n",
    "for n, expected in test_cases:\n",
    "    partitions = get_partitions(n)\n",
    "    assert partitions == expected, f'For {n}, expected {expected} but got {partitions}'\n",
    "print('All test cases passed')"
   ]
  },
  {
   "cell_type": "code",
   "execution_count": 39,
   "id": "508960c7",
   "metadata": {},
   "outputs": [
    {
     "data": {
      "text/plain": [
       "6"
      ]
     },
     "execution_count": 39,
     "metadata": {},
     "output_type": "execute_result"
    }
   ],
   "source": [
    "def count_distinct_partitions(n):\n",
    "    # dp[i] = number of ways to partition i using distinct integers\n",
    "    dp = [0] * (n + 1)\n",
    "    dp[0] = 1  # Base case: one way to partition 0 (empty set)\n",
    "\n",
    "    # Iterate through potential parts from 1 to n (distinct parts only)\n",
    "    for num in range(1, n + 1):\n",
    "        for i in range(n, num - 1, -1):\n",
    "            dp[i] += dp[i - num]\n",
    "    \n",
    "    return dp[n]\n",
    "\n",
    "count_distinct_partitions(8)"
   ]
  },
  {
   "cell_type": "code",
   "execution_count": 35,
   "id": "437382a2",
   "metadata": {},
   "outputs": [
    {
     "data": {
      "text/plain": [
       "[[7], [6, 1], [5, 2], [4, 3], [4, 2, 1]]"
      ]
     },
     "execution_count": 35,
     "metadata": {},
     "output_type": "execute_result"
    }
   ],
   "source": [
    "def generate_distinct_partitions(n):\n",
    "    result = []\n",
    "\n",
    "    def backtrack(remaining, start, path):\n",
    "        if remaining == 0:\n",
    "            result.append(path[:])\n",
    "            return\n",
    "        for i in range(start, 0, -1):\n",
    "            if i <= remaining:\n",
    "                backtrack(remaining - i, i - 1, path + [i])\n",
    "\n",
    "    backtrack(n, n, [])\n",
    "    return result\n",
    "\n",
    "generate_distinct_partitions(7)"
   ]
  },
  {
   "cell_type": "code",
   "execution_count": null,
   "id": "dfbd0350",
   "metadata": {},
   "outputs": [],
   "source": []
  }
 ],
 "metadata": {
  "kernelspec": {
   "display_name": "kurio",
   "language": "python",
   "name": "python3"
  },
  "language_info": {
   "codemirror_mode": {
    "name": "ipython",
    "version": 3
   },
   "file_extension": ".py",
   "mimetype": "text/x-python",
   "name": "python",
   "nbconvert_exporter": "python",
   "pygments_lexer": "ipython3",
   "version": "3.12.9"
  }
 },
 "nbformat": 4,
 "nbformat_minor": 5
}
